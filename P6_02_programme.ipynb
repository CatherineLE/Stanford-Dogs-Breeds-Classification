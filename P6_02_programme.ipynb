{
 "cells": [
  {
   "cell_type": "code",
   "execution_count": 141,
   "id": "competitive-madness",
   "metadata": {},
   "outputs": [
    {
     "name": "stdout",
     "output_type": "stream",
     "text": [
      "sequential_7\n"
     ]
    },
    {
     "name": "stderr",
     "output_type": "stream",
     "text": [
      "\n",
      "  0%|          | 0/10 [00:00<?, ?it/s]\u001b[A\n",
      " 10%|█         | 1/10 [00:00<00:06,  1.38it/s]\u001b[A\n",
      " 40%|████      | 4/10 [00:00<00:01,  5.87it/s]\u001b[A"
     ]
    },
    {
     "name": "stdout",
     "output_type": "stream",
     "text": [
      "shih_tzu\n",
      "great_pyrenees\n",
      "afghan_hound\n",
      "samoyed\n",
      "maltese\n"
     ]
    },
    {
     "name": "stderr",
     "output_type": "stream",
     "text": [
      "\n",
      " 70%|███████   | 7/10 [00:00<00:00,  9.84it/s]\u001b[A\n",
      "100%|██████████| 10/10 [00:01<00:00,  9.01it/s]\u001b[A"
     ]
    },
    {
     "name": "stdout",
     "output_type": "stream",
     "text": [
      "leonberg\n",
      "pomeranian\n",
      "scottish_deerhound\n",
      "bernese_mountain\n",
      "scottish_deerhound\n"
     ]
    },
    {
     "name": "stderr",
     "output_type": "stream",
     "text": [
      "\n"
     ]
    }
   ],
   "source": [
    "import tensorflow as tf\n",
    "import cv2\n",
    "import keras \n",
    "'''\n",
    "Put some images in data_dir , load the weights file .h5 and execute the code\n",
    "'''\n",
    "\n",
    "\n",
    "\n",
    "data_dir = './Image_test/'\n",
    "\n",
    "imgsize= 150\n",
    "\n",
    "#Load best model with best weights\n",
    "#prediction_model = tf.keras.models.load_model('./SaveModels/sequential_7.hdf5')\n",
    "checkpoint_path=\"./Weights/weight_INCEPTIONV3.2.h5\"\n",
    "#prediction_model.load_weights(checkpoint_path)\n",
    "prediction_model =  keras.models.load_model(checkpoint_path)\n",
    "\n",
    "print(prediction_model.name)\n",
    "\n",
    "class_names = ['afghan_hound',\n",
    " 'bernese_mountain',\n",
    " 'great_pyrenees',\n",
    " 'irish_wolfhound',\n",
    " 'leonberg',\n",
    " 'maltese',\n",
    " 'pomeranian',\n",
    " 'samoyed',\n",
    " 'scottish_deerhound',\n",
    " 'shih_tzu']\n",
    "\n",
    "\n",
    "result=[]\n",
    "    \n",
    "for i in tqdm(os.listdir(data_dir)):\n",
    "    \n",
    "    path = os.path.join(data_dir,i)\n",
    "    image = cv2.imread(path,cv2.IMREAD_COLOR)\n",
    "   \n",
    "\n",
    "\n",
    "    #resize\n",
    "    image = cv2.resize(image,(imgsize,imgsize))\n",
    "    image = img_to_array(image) #(150, 150, 3)\n",
    "    image = image.reshape((1, image.shape[0], image.shape[1], image.shape[2])) #(1, 150, 150, 3)\n",
    "    #remove the blue color\n",
    "    image = preprocess_input(image) \n",
    "    #Equalization in size 250 for more light\n",
    "    image = np.uint8(cv2.normalize(image, None, 0, 250, cv2.NORM_MINMAX))\n",
    "    # Normalization\n",
    "    image= image/255\n",
    "    \n",
    "    #(10,)  > OK\n",
    "    test_predictions = prediction_model.predict(image)\n",
    "    \n",
    "    \n",
    "    #(1,)\n",
    "    predicted_breed = class_names[np.argmax(test_predictions)]\n",
    "    print(predicted_breed)\n",
    "\n",
    "    \n",
    " \n",
    "    ori_image = cv2.imread(path, cv2.IMREAD_COLOR)\n",
    "                                   #position(,)                      #taille    #couleur               #épaisseur\n",
    "    ori_image = cv2.putText(ori_image, predicted_breed, (0, 20), cv2.FONT_HERSHEY_SIMPLEX, 0.7, (128, 0, 0), 2)\n",
    "\n",
    "    cv2.imwrite(f\"./Preditions/prediction_{i}.png\", ori_image)\n",
    "\n"
   ]
  }
 ],
 "metadata": {
  "kernelspec": {
   "display_name": "Python 3",
   "language": "python",
   "name": "python3"
  },
  "language_info": {
   "codemirror_mode": {
    "name": "ipython",
    "version": 3
   },
   "file_extension": ".py",
   "mimetype": "text/x-python",
   "name": "python",
   "nbconvert_exporter": "python",
   "pygments_lexer": "ipython3",
   "version": "3.9.5"
  },
  "toc": {
   "base_numbering": 1,
   "nav_menu": {},
   "number_sections": true,
   "sideBar": true,
   "skip_h1_title": false,
   "title_cell": "Table of Contents",
   "title_sidebar": "Contents",
   "toc_cell": false,
   "toc_position": {},
   "toc_section_display": true,
   "toc_window_display": false
  }
 },
 "nbformat": 4,
 "nbformat_minor": 5
}
